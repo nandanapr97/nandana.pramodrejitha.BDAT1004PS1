{
 "cells": [
  {
   "cell_type": "markdown",
   "id": "bdfb75c9",
   "metadata": {},
   "source": [
    "Question 1 \n",
    "\n",
    "What data type is each of the following?\n",
    "\n",
    "5\n",
    "\n",
    "5.0\n",
    "\n",
    "5 > 1\n",
    "\n",
    "'5'\n",
    "\n",
    "5 * 2\n",
    "\n",
    "'5' * 2\n",
    "\n",
    "'5' + '2'\n",
    "\n",
    "5 / 2\n",
    "\n",
    "5 % 2\n",
    "\n",
    "{5, 2, 1}\n",
    "\n",
    "5 == 3\n",
    "\n",
    "Pi (the number)"
   ]
  },
  {
   "cell_type": "code",
   "execution_count": 1,
   "id": "c90b331c",
   "metadata": {},
   "outputs": [
    {
     "name": "stdout",
     "output_type": "stream",
     "text": [
      "Print the data types of the following :\n",
      "5.0 : System.Double\n",
      "5 > 1 : System.Boolean\n",
      "'5' : System.Char\n",
      "5 * 2 : System.Int32\n",
      "'5' * 2  System.Int32\n",
      "'5' + '2' : System.Int32\n",
      "5 / 2 : System.Int32\n",
      "5 % 2 : System.Int32\n",
      "{5, 2, 1} : System.Int32[]\n",
      "5 == 3 : System.Boolean\n",
      "Math.PI : System.Double\n"
     ]
    }
   ],
   "source": [
    "\n",
    "        Console.WriteLine(\"Print the data types of the following :\");\n",
    "\n",
    "        Console.WriteLine($\"5.0 : {GetType(5.0)}\");\n",
    "        Console.WriteLine($\"5 > 1 : {GetType(5 > 1)}\");\n",
    "        Console.WriteLine($\"'5' : {GetType('5')}\");\n",
    "        Console.WriteLine($\"5 * 2 : {GetType(5 * 2)}\");\n",
    "        Console.WriteLine($\"'5' * 2  {GetType('5' * 2)}\");\n",
    "        Console.WriteLine($\"'5' + '2' : {GetType('5' + '2')}\");\n",
    "        Console.WriteLine($\"5 / 2 : {GetType(5 / 2)}\");\n",
    "        Console.WriteLine($\"5 % 2 : {GetType(5 % 2)}\");\n",
    "        Console.WriteLine($\"{{5, 2, 1}} : {GetType(new int[] { 5, 2, 1 })}\");\n",
    "        Console.WriteLine($\"5 == 3 : {GetType(5 == 3)}\");\n",
    "        Console.WriteLine($\"Math.PI : {GetType(Math.PI)}\");\n",
    "    \n",
    "\n",
    "    static string GetType(object obj)\n",
    "    {\n",
    "        return obj.GetType().ToString();\n",
    "    }"
   ]
  },
  {
   "cell_type": "markdown",
   "id": "e72cc399",
   "metadata": {},
   "source": [
    "Question 2 \n",
    "\n",
    "Write (and evaluate) C# expressions that answer these questions:\n",
    "\n",
    "a. How many letters are there in 'Supercalifragilisticexpialidocious'?\n"
   ]
  },
  {
   "cell_type": "code",
   "execution_count": 1,
   "id": "66d63691",
   "metadata": {},
   "outputs": [
    {
     "name": "stdout",
     "output_type": "stream",
     "text": [
      "Find the number of letters in 'Supercalifragilisticexpialidocious'\n",
      "Number of letters in 'Supercalifragilisticexpialidocious' is : 34\n"
     ]
    }
   ],
   "source": [
    "Console.WriteLine(\"Find the number of letters in 'Supercalifragilisticexpialidocious'\");\n",
    "string name = \"Supercalifragilisticexpialidocious\"; //Declare the string variable, name\n",
    "int No_of_letters = 0; //Declare an integer variable to store the number of letters\n",
    "\n",
    "foreach (char c in name) //Iterate through each character 'c' in the string\n",
    "{\n",
    "    if (char.IsLetter(c))\n",
    "    {\n",
    "       No_of_letters ++; //No_of_letters is incremented by 1 if 'c' is a letter\n",
    "    }\n",
    "}\n",
    "\n",
    "Console.WriteLine(\"Number of letters in 'Supercalifragilisticexpialidocious' is : \" + No_of_letters);\n"
   ]
  },
  {
   "cell_type": "markdown",
   "id": "b4216695",
   "metadata": {},
   "source": [
    "2.b. Does 'Supercalifragilisticexpialidocious' contain 'ice' as a substring?"
   ]
  },
  {
   "cell_type": "code",
   "execution_count": 5,
   "id": "1376109d",
   "metadata": {},
   "outputs": [
    {
     "name": "stdout",
     "output_type": "stream",
     "text": [
      "Does the word 'Supercalifragilisticexpialidocious' contain 'ice' as a substring ?\n",
      "The word 'Supercalifragilisticexpialidocious' contains 'ice' as a substring\n"
     ]
    }
   ],
   "source": [
    "Console.WriteLine(\"Does the word 'Supercalifragilisticexpialidocious' contain 'ice' as a substring ?\");\n",
    "string name = \"Supercalifragilisticexpialidocious\"; //Declare the string\n",
    "bool ice = false; // Declare a bool variable\n",
    "\n",
    "for (int i = 0; i <= name.Length - 3; i++)\n",
    "{\n",
    "    char l1 = name[i];\n",
    "    char l2 = name[i + 1];\n",
    "    char l3 = name[i + 2];\n",
    "\n",
    "    if (l1 == 'i'&& l2 == 'c' && l3 == 'e')\n",
    "    {\n",
    "        ice = true;\n",
    "        break;\n",
    "    }\n",
    "    \n",
    "}\n",
    "if (ice = true)\n",
    "{\n",
    "    Console.WriteLine(\"The word 'Supercalifragilisticexpialidocious' contains 'ice' as a substring\");\n",
    "}\n"
   ]
  },
  {
   "cell_type": "markdown",
   "id": "7d54fd4b",
   "metadata": {},
   "source": [
    "2.c Which of the following words is the longest:\n",
    "Supercalifragilisticexpialidocious, Honorificabilitudinitatibus, or\n",
    "Bababadalgharaghtakamminarronnkonn?"
   ]
  },
  {
   "cell_type": "code",
   "execution_count": 11,
   "id": "f2d9280b",
   "metadata": {},
   "outputs": [
    {
     "name": "stdout",
     "output_type": "stream",
     "text": [
      "Which of the following words is the longest:\n",
      "Supercalifragilisticexpialidocious, Honorificabilitudinitatibus, or\n",
      "Bababadalgharaghtakamminarronnkonn?\n",
      "Number of letters in the word 'supercalifragilisticexpialidocious' is : 34\n",
      "Number of letters in the word 'honorificabilitudinitatibus' is : 27\n",
      "Number of letters in the word 'Bababadalgharaghtakamminarronnkonn' is : 34\n",
      "The longest words are: supercalifragilisticexpialidocious, Bababadalgharaghtakamminarronnkonn\n"
     ]
    }
   ],
   "source": [
    "Console.WriteLine(\"Which of the following words is the longest:\\r\\nSupercalifragilisticexpialidocious, Honorificabilitudinitatibus, or\\r\\nBababadalgharaghtakamminarronnkonn?\");\n",
    "string word1 = \"supercalifragilisticexpialidocious\";\n",
    "int length1 = 0;\n",
    "\n",
    "foreach (char c in word1)\n",
    "{\n",
    "    if (char.IsLetter(c))\n",
    "    {\n",
    "        length1++;\n",
    "    }\n",
    "}\n",
    "\n",
    "Console.WriteLine(\"Number of letters in the word 'supercalifragilisticexpialidocious' is : \" + length1);\n",
    "\n",
    "string word2 = \"honorificabilitudinitatibus\";\n",
    "int length2 = 0;\n",
    "\n",
    "foreach (char c in word2)\n",
    "{\n",
    "    if (char.IsLetter(c))\n",
    "    {\n",
    "        length2++;\n",
    "    }\n",
    "}\n",
    "\n",
    "Console.WriteLine(\"Number of letters in the word 'honorificabilitudinitatibus' is : \" + length2);\n",
    "\n",
    "\n",
    "string word3 = \"Bababadalgharaghtakamminarronnkonn\";\n",
    "int length3 = 0;\n",
    "\n",
    "foreach (char c in word3)\n",
    "{\n",
    "   if (char.IsLetter(c))\n",
    "    {\n",
    "        length3++;\n",
    "    }\n",
    "}\n",
    "\n",
    "Console.WriteLine(\"Number of letters in the word 'Bababadalgharaghtakamminarronnkonn' is : \" + length3);\n",
    "\n",
    "int output = length1;\n",
    "string longestword = word1;\n",
    "\n",
    "\n",
    "if (length2 > output)\n",
    "{\n",
    "    output = length2;\n",
    "    longestword = word2;\n",
    "}\n",
    "if (length3 > output)\n",
    "{\n",
    "   output = length3;\n",
    "    longestword = word3;\n",
    "}\n",
    "\n",
    "\n",
    "string longestWords = \"\"; //Initialize a string to store all long words\n",
    "// Check if word1 =is the longest word\n",
    "if (length1 == output)\n",
    "{\n",
    "    if (longestWords.Length > 0)\n",
    "        longestWords += \", \";\n",
    "    longestWords += word1;\n",
    "}\n",
    "\n",
    "// Check if word2 is the longest word\n",
    "if (length2 == output)\n",
    "{\n",
    "    if (longestWords.Length > 0)\n",
    "        longestWords += \", \";\n",
    "    longestWords += word2;\n",
    "}\n",
    "\n",
    "// Check if word3 is the longest word\n",
    "if (length3 == output)\n",
    "{\n",
    "    if (longestWords.Length > 0)\n",
    "        longestWords += \", \";\n",
    "    longestWords += word3;\n",
    "}\n",
    "\n",
    "Console.WriteLine(\"The longest words are: \" + longestWords);\n",
    "    \n",
    "\n",
    "\n"
   ]
  },
  {
   "cell_type": "markdown",
   "id": "446d7550",
   "metadata": {},
   "source": [
    " 2.d  Which composer comes first in the dictionary: 'Berlioz', 'Borodin', 'Brian','Bartok', 'Bellini', 'Buxtehude', 'Bernstein'. Which one comes last?\n"
   ]
  },
  {
   "cell_type": "code",
   "execution_count": 1,
   "id": "4a65e22c",
   "metadata": {},
   "outputs": [
    {
     "name": "stdout",
     "output_type": "stream",
     "text": [
      "Which composer comes first in the dictionary: 'Berlioz', 'Borodin', 'Brian','Bartok', 'Bellini', 'Buxtehude', 'Bernstein'. Which one comes last?\n",
      "The composer that comes first is: Bartok\n",
      "The composer that comes last is: Buxtehude\n"
     ]
    }
   ],
   "source": [
    "\n",
    "Console.WriteLine(\"Which composer comes first in the dictionary: 'Berlioz', 'Borodin', 'Brian','Bartok', 'Bellini', 'Buxtehude', 'Bernstein'. Which one comes last?\");\n",
    "\n",
    "\n",
    "string[] Name = { \"Berlioz\", \"Borodin\", \"Brian\", \"Bartok\", \"Bellini\", \"Buxtehude\", \"Bernstein\" };\n",
    "\n",
    "// Sort array alphabetically\n",
    "Array.Sort(Name);\n",
    "\n",
    "//  first in the dictionary)\n",
    "string first = Name[0];\n",
    "\n",
    "//  last in the dictionary\n",
    "string last = Name[Name.Length - 1];\n",
    "\n",
    "\n",
    "Console.WriteLine(\"The composer that comes first is: \" + first);\n",
    "Console.WriteLine(\"The composer that comes last is: \" + last);\n",
    "\n"
   ]
  },
  {
   "cell_type": "markdown",
   "id": "718704d9",
   "metadata": {},
   "source": [
    "Question 3 \n",
    "\n",
    "Implement function triangleArea(a,b,c) that takes as input the lengths of the 3 sides of a triangle and returns the area of the triangle. By Heron's formula, the area of a triangle with side lengths a, b, and c iss(s - a)(s - b)(s - c) , wheres = (a + b + c)/2\n",
    "\n",
    ">>> triangleArea(2,2,2)\n",
    "1.7320508075688772"
   ]
  },
  {
   "cell_type": "code",
   "execution_count": 16,
   "id": "7f9e9f7c",
   "metadata": {},
   "outputs": [
    {
     "name": "stdout",
     "output_type": "stream",
     "text": [
      "The length of the sides of the triange are :Side a = 2, side b : 2 , side c : 2\n",
      "The area of triangle with sides (a,b,c) is: 1.7320508075688772\n"
     ]
    }
   ],
   "source": [
    "double a = 2; //Initialize side a of triangle\n",
    "double b = 2; //Initialize side b of triangle\n",
    "double c = 2; //Initialize side c of triangle\n",
    "\n",
    "Console.WriteLine(\"The length of the sides of the triange are :\" + \"Side a = \" + a + \", side b : \" + b + \" , side c : \" + c);\n",
    "\n",
    "double areaOfTriangle = TriangleArea(a, b, c); // Implement function triangleArea(a,b,c)\n",
    "Console.WriteLine(\"The area of triangle with sides (a,b,c) is: \" + areaOfTriangle);\n",
    "\n",
    "static double TriangleArea(double side_a, double side_b, double side_c)\n",
    "{\n",
    "    double s = (side_a + side_b + side_c) / 2; //S=(a+b+c)/2\n",
    "    double area = Math.Sqrt(s * (s - side_a) * (s - side_b) * (s - side_c)); // squate root of ( s(s - a)(s - b)(s - c) )\n",
    "        return area;\n",
    "}\n"
   ]
  },
  {
   "cell_type": "markdown",
   "id": "f5f9d7a2",
   "metadata": {},
   "source": [
    "Question 4 \n",
    "\n",
    "Write a program in C# Sharp to separate odd and even integers in separate arrays.\n",
    "\n",
    "Go to the editor\n",
    "\n",
    "Test Data :\n",
    "\n",
    "Input the number of elements to be stored in the array :5\n",
    "\n",
    "Input 5 elements in the array :\n",
    "\n",
    "element - 0 : 25\n",
    "\n",
    "element - 1 : 47\n",
    "\n",
    "element - 2 : 42\n",
    "\n",
    "element - 3 : 56\n",
    "\n",
    "element - 4 : 32\n",
    "\n",
    "Expected Output:\n",
    "\n",
    "The Even elements are:\n",
    "\n",
    "42 56 32\n",
    "\n",
    "The Odd elements are :\n",
    "\n",
    "25 47"
   ]
  },
  {
   "cell_type": "code",
   "execution_count": 20,
   "id": "3e7227e7",
   "metadata": {},
   "outputs": [
    {
     "name": "stdout",
     "output_type": "stream",
     "text": [
      "The Even elements in the array are:\n",
      "20 22 12 56 76 \n",
      "The Odd elements in the array are:\n",
      "23 25 87 99 89 "
     ]
    }
   ],
   "source": [
    "//Question 4\n",
    "// Write a program in C# Sharp to separate odd and even integers in separate arrays.\n",
    "\n",
    "int n = 10;\n",
    "\n",
    "// Create an array of integers\n",
    "int[] array = {20, 22, 23, 25, 87, 99, 12, 56, 76, 89};\n",
    "\n",
    "\n",
    "//To seperate even and odd elements\n",
    "int[] evenArray = new int[n];\n",
    "int[] oddArray = new int[n];\n",
    "\n",
    "int evenNo = 0; \n",
    "int oddNo = 0;\n",
    "\n",
    "for (int i = 0; i < n; i++)\n",
    "{\n",
    "    if (array[i] %2 == 0)\n",
    "    {\n",
    "        evenArray[evenNo] = array[i];\n",
    "        evenNo++;\n",
    "    }\n",
    "    else\n",
    "    {\n",
    "        oddArray[oddNo] = array[i];\n",
    "        oddNo++;\n",
    "    }\n",
    "}\n",
    "\n",
    "//To print even and odd arrays\n",
    "\n",
    "Console.WriteLine(\"The Even elements in the array are:\");\n",
    "for (int i = 0; i < evenNo; i++)\n",
    "{\n",
    "    Console.Write(evenArray[i] + \" \");\n",
    "}\n",
    "\n",
    "Console.WriteLine(\"\\nThe Odd elements in the array are:\");\n",
    "for (int i = 0; i < oddNo; i++)\n",
    "{\n",
    "    Console.Write(oddArray[i] + \" \");\n",
    "}\n",
    "    \n"
   ]
  },
  {
   "cell_type": "markdown",
   "id": "9d358de4",
   "metadata": {},
   "source": [
    "Question 5 \n",
    "\n",
    "a. Write a function inside(x,y,x1,y1,x2,y2) that returns True or False depending on whether the point (x,y) lies in the rectangle with lower left corner (x1,y1) and upper right corner (x2,y2).\n",
    "\n",
    ">>> inside(1,1,0,0,2,3)\n",
    "True\n",
    "\n",
    ">>> inside(-1,-1,0,0,2,3)\n",
    "False"
   ]
  },
  {
   "cell_type": "code",
   "execution_count": 22,
   "id": "fbd7d4c9",
   "metadata": {},
   "outputs": [
    {
     "name": "stdout",
     "output_type": "stream",
     "text": [
      "The point, (x,y) = ( 1,1)  lies inside the rectangle.\r\n"
     ]
    }
   ],
   "source": [
    "int x = 1;\n",
    "int y =1 ;\n",
    "int x1 = 0;\n",
    "int y1 = 0;\n",
    "int x2 = 2;\n",
    "int y2 = 3;\n",
    "        bool coordinates = Inside(x, y, x1, y1, x2, y2);\n",
    "\n",
    "        if (coordinates == true)\n",
    "        {\n",
    "            Console.WriteLine(\"The point, (x,y) = ( \" + x + \",\" + y + \")  lies inside the rectangle.\");\n",
    "        }\n",
    "        else\n",
    "        {\n",
    "            Console.WriteLine(\"The point, (x,y) = ( \" + x + \",\" + y + \") does not lie inside the rectangle.\");\n",
    "        }\n",
    "    \n",
    "\n",
    "    static bool Inside(int x, int y, int x1, int y1, int x2, int y2)\n",
    "    {\n",
    "        // Check if (x, y) lies inside the coordinates\n",
    "        return (x >= x1 && x <= x2) && (y >= y1 && y <= y2);\n",
    "    }\n",
    "\n",
    "\n"
   ]
  },
  {
   "cell_type": "markdown",
   "id": "3c057d67",
   "metadata": {},
   "source": [
    "5.b Use function inside() from part a. to write an expression that tests whether the point (1,1) lies in both of the following rectangles: one with lower left corner (0.3, 0.5) and upper right corner (1.1, 0.7) and the other with lower\n",
    "left corner (0.5, 0.2) and upper right corner (1.1, 2)."
   ]
  },
  {
   "cell_type": "code",
   "execution_count": 21,
   "id": "7e24354b",
   "metadata": {},
   "outputs": [
    {
     "name": "stdout",
     "output_type": "stream",
     "text": [
      "The point, (x_R1,y_R1) = ( 1,1)  lies inside the rectangle.\n",
      "The point, (x_R2,y_R2) = ( 1,1)  lies inside the rectangle.\n"
     ]
    }
   ],
   "source": [
    "    double x_R1 = 1;\n",
    "    double y_R1 =1;\n",
    "    double x1_R1 = 0.3;\n",
    "    double y1_R1 = 0.5;\n",
    "    double x2_R1 = 1.1;\n",
    "    double y2_R1 = 0.7;\n",
    "\n",
    "    double x_R2 = 1;\n",
    "    double y_R2 = 1;\n",
    "    double x1_R2 = 0.5;\n",
    "    double y1_R2 = 0.2;\n",
    "    double x2_R2 = 1.1;\n",
    "    double y2_R2 = 0.2;\n",
    "    bool coordinates_R1 = Inside(x_R1, y_R1, x1_R1, y1_R1, x2_R1, y2_R1);\n",
    "    bool coordinates_R2 = Inside(x_R2, y_R2, x1_R2, y1_R2, x2_R2, y2_R2);\n",
    "\n",
    "\n",
    "    Console.WriteLine(\"The point, (x_R1,y_R1) = ( \" + x_R1 + \",\" + y_R1 + \")  lies inside the rectangle.\");\n",
    "    Console.WriteLine(\"The point, (x_R2,y_R2) = ( \" + x_R2 + \",\" + y_R2 + \")  lies inside the rectangle.\");\n",
    "\n",
    "static bool Inside(double x, double y, double x1, double y1, double x2, double y2)\n",
    "{\n",
    "    // Check if (x_R1, y_R1) lies inside the coordinates_R1\n",
    "    return (x >= x1 && x <= x2) && (y >= y1 && y <= y2);\n",
    "}\n"
   ]
  }
 ],
 "metadata": {
  "kernelspec": {
   "display_name": ".NET (C#)",
   "language": "C#",
   "name": ".net-csharp"
  },
  "language_info": {
   "file_extension": ".cs",
   "mimetype": "text/x-csharp",
   "name": "C#",
   "pygments_lexer": "csharp",
   "version": "8.0"
  }
 },
 "nbformat": 4,
 "nbformat_minor": 5
}
