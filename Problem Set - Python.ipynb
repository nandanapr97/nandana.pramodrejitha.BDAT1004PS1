{
 "cells": [
  {
   "cell_type": "markdown",
   "id": "2dcb0346",
   "metadata": {},
   "source": [
    "Question 6 \n",
    "\n",
    "You can turn a word into pig-Latin using the following two rules (simplified):\n",
    "• If the word starts with a consonant, move that letter to the end and append\n",
    "'ay'. For example, 'happy' becomes 'appyhay' and 'pencil' becomes 'encilpay'.\n",
    "• If the word starts with a vowel, simply append 'way' to the end of the word.\n",
    "For example, 'enter' becomes 'enterway' and 'other' becomes 'otherway' . For\n",
    "our purposes, there are 5 vowels: a, e, i, o, u (so we count y as a consonant).\n",
    "Write a function pig() that takes a word (i.e., a string) as input and returns its pig-\n",
    "Latin form. Your function should still work if the input word contains upper case\n",
    "characters. Your output should always be lower case however.\n",
    ">>> pig('happy')\n",
    "'appyhay'\n",
    ">>> pig('Enter')\n",
    "'enterway'"
   ]
  },
  {
   "cell_type": "code",
   "execution_count": 10,
   "id": "b42c4a45",
   "metadata": {
    "scrolled": true
   },
   "outputs": [
    {
     "name": "stdout",
     "output_type": "stream",
     "text": [
      "Enter the word :Happy\n",
      "Word in pig latin: appyhay\n",
      "Enter the word :Enter\n",
      "Word in pig latin: enterway\n"
     ]
    }
   ],
   "source": [
    "def pig(word):\n",
    "   \n",
    "    word = word.lower()\n",
    "\n",
    "    vowels = 'aeiou'\n",
    "\n",
    "    if word[0] in vowels:\n",
    "       \n",
    "        return word + 'way'\n",
    "    else:\n",
    "        return word[1:] + word[0] + 'ay'\n",
    "\n",
    "word = input(\"Enter the word :\")\n",
    "Piglatinword = pig(word)\n",
    "print(\"Word in pig latin:\",Piglatinword)\n",
    "\n",
    "word = input(\"Enter the word :\")\n",
    "Piglatinword = pig(word)\n",
    "print(\"Word in pig latin:\",Piglatinword)"
   ]
  },
  {
   "cell_type": "markdown",
   "id": "89e7ba73",
   "metadata": {},
   "source": [
    "Question 7 \n",
    "\n",
    "File bloodtype1.txt records blood-types of patients (A, B, AB, O or OO) at a clinic.\n",
    "Write a function bldcount() that reads the file with name name and reports (i.e.,\n",
    "prints) how many patients there are in each bloodtype.\n",
    ">>> bldcount('bloodtype.txt')\n",
    "There are 10 patients of blood type A.\n",
    "There is one patient of blood type B.\n",
    "There are 10 patients of blood type AB.\n",
    "There are 12 patients of blood type O.\n",
    "There are no patients of blood type OO."
   ]
  },
  {
   "cell_type": "code",
   "execution_count": 75,
   "id": "9b5fa09e",
   "metadata": {},
   "outputs": [
    {
     "ename": "SyntaxError",
     "evalue": "invalid syntax (170973493.py, line 3)",
     "output_type": "error",
     "traceback": [
      "\u001b[1;36m  Cell \u001b[1;32mIn[75], line 3\u001b[1;36m\u001b[0m\n\u001b[1;33m    def bldcount('bloodtype1.txt'):\u001b[0m\n\u001b[1;37m                 ^\u001b[0m\n\u001b[1;31mSyntaxError\u001b[0m\u001b[1;31m:\u001b[0m invalid syntax\n"
     ]
    }
   ],
   "source": [
    "\n",
    "def bldcount('bloodtype1.txt'):\n",
    "    counts = { 'A': 0, 'B': 0, 'AB': 0, 'O': 0, 'OO': 0}\n",
    "\n",
    "try:\n",
    "        with open('bloodtype1.txt', 'r') as file:\n",
    "            lines = file.readlines()\n",
    "            for l in lines:\n",
    "                bloodtype = l.strip()\n",
    "                if bloodtype in counts:\n",
    "counts[bloodtype] += 1\n",
    "\n",
    "        for bloodtype, count in counts.items():\n",
    "            if count => 1:\n",
    "                print(f'There are {count} patient of blood type {bloodtype}.')\n",
    "            \n",
    "            else:\n",
    "                print(f'There are no patients of blood type {bloodtype}.')\n"
   ]
  },
  {
   "cell_type": "markdown",
   "id": "d7b043b5",
   "metadata": {},
   "source": [
    "Question 8 \n",
    "\n",
    "Write a function curconv() that takes as input:\n",
    "1. a currency represented using a string (e.g., 'JPY' for the Japanese Yen or\n",
    "'EUR' for the Euro)\n",
    "2. an amount\n",
    "and then converts and returns the amount in US dollars.\n",
    "\n",
    ">>> curconv('EUR', 100)\n",
    "122.96544\n",
    "\n",
    ">>> curconv('JPY', 100)\n",
    "1.241401\n",
    "\n",
    "The currency rates you will need are stored in file currencies.txt:\n",
    "\n",
    "AUD 1.0345157 Australian Dollar\n",
    "\n",
    "CHF 1.0237414 Swiss Franc\n",
    "\n",
    "CNY 0.1550176 Chinese Yuan\n",
    "\n",
    "DKK 0.1651442 Danish Krone\n",
    "\n",
    "EUR 1.2296544 Euro\n",
    "\n",
    "GBP 1.5550989 British Pound\n",
    "\n",
    "HKD 0.1270207 Hong Kong Dollar\n",
    "\n",
    "INR 0.0177643 Indian Rupee\n",
    "\n",
    "JPY 0.01241401 Japanese Yen\n",
    "\n",
    "MXN 0.0751848 Mexican Peso\n",
    "\n",
    "MYR 0.3145411 Malaysian Ringgit\n",
    "\n",
    "NOK 0.1677063 Norwegian Krone\n",
    "\n",
    "NZD 0.8003591 New Zealand Dollar\n",
    "\n",
    "PHP 0.0233234 Philippine Peso\n",
    "\n",
    "SEK 0.148269 Swedish Krona\n",
    "\n",
    "SGD 0.788871 Singapore Dollar\n",
    "\n",
    "THB 0.0313789 Thai Baht"
   ]
  },
  {
   "cell_type": "code",
   "execution_count": 77,
   "id": "1d710992",
   "metadata": {},
   "outputs": [
    {
     "name": "stdout",
     "output_type": "stream",
     "text": [
      "Please enter the currency you want to convert to USD here:INR\n",
      "Enter amount you want to convert into to USD here: 300000\n",
      "INR in USD is 5329.29\n"
     ]
    }
   ],
   "source": [
    "def curconv(currency, amount):\n",
    "    # Conversion rates to USD of different currencies\n",
    "    rates = {\n",
    "        'AUD': 1.0345157,\n",
    "        'CHF': 1.0237414, \n",
    "        'CNY': 0.1550176, \n",
    "        'DKK': 0.1651442, \n",
    "        'EUR': 1.2296544, \n",
    "        'GBP': 1.5550989, \n",
    "        'HKD': 0.1270207, \n",
    "        'INR': 0.0177643, \n",
    "        'JPY': 0.01241401,\n",
    "        'MXN': 0.0751848,\n",
    "        'MYR': 0.3145411, \n",
    "        'NOK': 0.1677063, \n",
    "        'NZD': 0.8003591,\n",
    "        'PHP': 0.0233234, \n",
    "        'SEK': 0.148269, \n",
    "        'SGD': 0.788871, \n",
    "        'THB': 0.0313789     \n",
    "    }\n",
    "    \n",
    "    if currency in rates:\n",
    "        amount_in_USD = amount * rates[currency]\n",
    "        return amount_in_USD\n",
    "   \n",
    "    \n",
    "my_currency = input(\"Please enter the currency you want to convert to USD here:\")\n",
    "my_amount = float(input(\"Enter amount you want to convert into to USD here: \"))\n",
    "\n",
    "final = curconv(my_currency, my_amount)\n",
    "print(my_currency,\"in USD is\",final)\n"
   ]
  },
  {
   "cell_type": "markdown",
   "id": "2923704a",
   "metadata": {},
   "source": [
    "Question 9\n",
    "\n",
    "Each of the following will cause an exception (an error). Identify what type of\n",
    "exception each will cause.\n"
   ]
  },
  {
   "cell_type": "markdown",
   "id": "88a6b2bf",
   "metadata": {},
   "source": [
    "Trying to add incompatible variables, as in\n",
    "adding 6 + ‘a’"
   ]
  },
  {
   "cell_type": "code",
   "execution_count": 81,
   "id": "8b3debc9",
   "metadata": {},
   "outputs": [
    {
     "ename": "TypeError",
     "evalue": "unsupported operand type(s) for +: 'int' and 'str'",
     "output_type": "error",
     "traceback": [
      "\u001b[1;31m---------------------------------------------------------------------------\u001b[0m",
      "\u001b[1;31mTypeError\u001b[0m                                 Traceback (most recent call last)",
      "Cell \u001b[1;32mIn[81], line 1\u001b[0m\n\u001b[1;32m----> 1\u001b[0m x \u001b[38;5;241m=\u001b[39m\u001b[38;5;241m6\u001b[39m\u001b[38;5;241m+\u001b[39m\u001b[38;5;124m'\u001b[39m\u001b[38;5;124ma\u001b[39m\u001b[38;5;124m'\u001b[39m\n",
      "\u001b[1;31mTypeError\u001b[0m: unsupported operand type(s) for +: 'int' and 'str'"
     ]
    }
   ],
   "source": [
    "\n",
    "x =6+'a'\n",
    "\n",
    "\n"
   ]
  },
  {
   "cell_type": "markdown",
   "id": "c8531789",
   "metadata": {},
   "source": [
    "TypeError: unsupported operand type(s) for +: 'int' and 'str'\n",
    "\n"
   ]
  },
  {
   "cell_type": "markdown",
   "id": "2261d42a",
   "metadata": {},
   "source": [
    "Question 9 - Referring to the 12th item of a list that has only 10 items"
   ]
  },
  {
   "cell_type": "code",
   "execution_count": 33,
   "id": "8bad8b29",
   "metadata": {},
   "outputs": [
    {
     "ename": "IndexError",
     "evalue": "list index out of range",
     "output_type": "error",
     "traceback": [
      "\u001b[1;31m---------------------------------------------------------------------------\u001b[0m",
      "\u001b[1;31mIndexError\u001b[0m                                Traceback (most recent call last)",
      "Cell \u001b[1;32mIn[33], line 4\u001b[0m\n\u001b[0;32m      1\u001b[0m \u001b[38;5;66;03m#Question 9 - Referring to the 12th item of a list that has only 10 items\u001b[39;00m\n\u001b[0;32m      3\u001b[0m \u001b[38;5;28mlist\u001b[39m \u001b[38;5;241m=\u001b[39m [\u001b[38;5;241m1\u001b[39m,\u001b[38;5;241m1\u001b[39m,\u001b[38;5;241m1\u001b[39m,\u001b[38;5;241m1\u001b[39m,\u001b[38;5;241m1\u001b[39m,\u001b[38;5;241m1\u001b[39m,\u001b[38;5;241m1\u001b[39m,\u001b[38;5;241m1\u001b[39m,\u001b[38;5;241m1\u001b[39m,\u001b[38;5;241m1\u001b[39m]\n\u001b[1;32m----> 4\u001b[0m \u001b[38;5;28mprint\u001b[39m(\u001b[38;5;28mlist\u001b[39m[\u001b[38;5;241m12\u001b[39m])\n",
      "\u001b[1;31mIndexError\u001b[0m: list index out of range"
     ]
    }
   ],
   "source": [
    "list = [1,1,1,1,1,1,1,1,1,1]\n",
    "print(list[12])\n"
   ]
  },
  {
   "cell_type": "markdown",
   "id": "26b6a215",
   "metadata": {},
   "source": [
    "IndexError: list index out of range\n"
   ]
  },
  {
   "cell_type": "markdown",
   "id": "d2bfdf93",
   "metadata": {},
   "source": [
    "Question 9 Using a value that is out of range for a function’s input, such as calling math.sqrt(-1.0)"
   ]
  },
  {
   "cell_type": "code",
   "execution_count": 79,
   "id": "01f37bfa",
   "metadata": {},
   "outputs": [
    {
     "ename": "NameError",
     "evalue": "name 'math' is not defined",
     "output_type": "error",
     "traceback": [
      "\u001b[1;31m---------------------------------------------------------------------------\u001b[0m",
      "\u001b[1;31mNameError\u001b[0m                                 Traceback (most recent call last)",
      "Cell \u001b[1;32mIn[79], line 1\u001b[0m\n\u001b[1;32m----> 1\u001b[0m a\u001b[38;5;241m=\u001b[39mmath\u001b[38;5;241m.\u001b[39msqrt(\u001b[38;5;241m-\u001b[39m\u001b[38;5;241m1.0\u001b[39m)\n",
      "\u001b[1;31mNameError\u001b[0m: name 'math' is not defined"
     ]
    }
   ],
   "source": [
    "a=math.sqrt(-1.0)"
   ]
  },
  {
   "cell_type": "markdown",
   "id": "a9b9f1f9",
   "metadata": {},
   "source": [
    "\n",
    "NameError: name 'math' is not defined\n"
   ]
  },
  {
   "cell_type": "markdown",
   "id": "b36bb6a6",
   "metadata": {},
   "source": [
    "#Question 9 - Using an undeclared variable, such as print(x) when x has not been defined"
   ]
  },
  {
   "cell_type": "code",
   "execution_count": 22,
   "id": "9b9f88d8",
   "metadata": {},
   "outputs": [
    {
     "ename": "NameError",
     "evalue": "name 'x' is not defined",
     "output_type": "error",
     "traceback": [
      "\u001b[1;31m---------------------------------------------------------------------------\u001b[0m",
      "\u001b[1;31mNameError\u001b[0m                                 Traceback (most recent call last)",
      "Cell \u001b[1;32mIn[22], line 2\u001b[0m\n\u001b[0;32m      1\u001b[0m \u001b[38;5;66;03m#Question 9 - Using an undeclared variable, such as print(x) when x has not been defined\u001b[39;00m\n\u001b[1;32m----> 2\u001b[0m \u001b[38;5;28mprint\u001b[39m(x)\n",
      "\u001b[1;31mNameError\u001b[0m: name 'x' is not defined"
     ]
    }
   ],
   "source": [
    "\n",
    "print(x)"
   ]
  },
  {
   "cell_type": "markdown",
   "id": "17275961",
   "metadata": {},
   "source": [
    "NameError: name 'x' is not defined"
   ]
  },
  {
   "cell_type": "markdown",
   "id": "fb51a0e4",
   "metadata": {},
   "source": [
    "#Question 9 - Trying to open a file that does not exist, such as mistyping the file name or looking in the wrong directory."
   ]
  },
  {
   "cell_type": "code",
   "execution_count": 28,
   "id": "94e3a8be",
   "metadata": {},
   "outputs": [
    {
     "ename": "FileNotFoundError",
     "evalue": "[Errno 2] No such file or directory: 'abcdeftxt'",
     "output_type": "error",
     "traceback": [
      "\u001b[1;31m---------------------------------------------------------------------------\u001b[0m",
      "\u001b[1;31mFileNotFoundError\u001b[0m                         Traceback (most recent call last)",
      "Cell \u001b[1;32mIn[28], line 3\u001b[0m\n\u001b[0;32m      1\u001b[0m \u001b[38;5;66;03m#Question 9 - Trying to open a file that does not exist, such as mistyping the file name or looking in the wrong directory.\u001b[39;00m\n\u001b[1;32m----> 3\u001b[0m \u001b[38;5;28;01mwith\u001b[39;00m \u001b[38;5;28mopen\u001b[39m(\u001b[38;5;124m'\u001b[39m\u001b[38;5;124mabcdeftxt\u001b[39m\u001b[38;5;124m'\u001b[39m, \u001b[38;5;124m'\u001b[39m\u001b[38;5;124mr\u001b[39m\u001b[38;5;124m'\u001b[39m) \u001b[38;5;28;01mas\u001b[39;00m file:\n\u001b[0;32m      4\u001b[0m     content \u001b[38;5;241m=\u001b[39m file\u001b[38;5;241m.\u001b[39mread()\n",
      "File \u001b[1;32mD:\\Georgiancollegecourse\\Lib\\site-packages\\IPython\\core\\interactiveshell.py:286\u001b[0m, in \u001b[0;36m_modified_open\u001b[1;34m(file, *args, **kwargs)\u001b[0m\n\u001b[0;32m    279\u001b[0m \u001b[38;5;28;01mif\u001b[39;00m file \u001b[38;5;129;01min\u001b[39;00m {\u001b[38;5;241m0\u001b[39m, \u001b[38;5;241m1\u001b[39m, \u001b[38;5;241m2\u001b[39m}:\n\u001b[0;32m    280\u001b[0m     \u001b[38;5;28;01mraise\u001b[39;00m \u001b[38;5;167;01mValueError\u001b[39;00m(\n\u001b[0;32m    281\u001b[0m         \u001b[38;5;124mf\u001b[39m\u001b[38;5;124m\"\u001b[39m\u001b[38;5;124mIPython won\u001b[39m\u001b[38;5;124m'\u001b[39m\u001b[38;5;124mt let you open fd=\u001b[39m\u001b[38;5;132;01m{\u001b[39;00mfile\u001b[38;5;132;01m}\u001b[39;00m\u001b[38;5;124m by default \u001b[39m\u001b[38;5;124m\"\u001b[39m\n\u001b[0;32m    282\u001b[0m         \u001b[38;5;124m\"\u001b[39m\u001b[38;5;124mas it is likely to crash IPython. If you know what you are doing, \u001b[39m\u001b[38;5;124m\"\u001b[39m\n\u001b[0;32m    283\u001b[0m         \u001b[38;5;124m\"\u001b[39m\u001b[38;5;124myou can use builtins\u001b[39m\u001b[38;5;124m'\u001b[39m\u001b[38;5;124m open.\u001b[39m\u001b[38;5;124m\"\u001b[39m\n\u001b[0;32m    284\u001b[0m     )\n\u001b[1;32m--> 286\u001b[0m \u001b[38;5;28;01mreturn\u001b[39;00m io_open(file, \u001b[38;5;241m*\u001b[39margs, \u001b[38;5;241m*\u001b[39m\u001b[38;5;241m*\u001b[39mkwargs)\n",
      "\u001b[1;31mFileNotFoundError\u001b[0m: [Errno 2] No such file or directory: 'abcdeftxt'"
     ]
    }
   ],
   "source": [
    "with open('abcdeftxt', 'r') as file:\n",
    "    content = file.read()"
   ]
  },
  {
   "cell_type": "markdown",
   "id": "eb03c38b",
   "metadata": {},
   "source": [
    "FileNotFoundError: [Errno 2] No such file or directory: 'abcdeftxt'\n"
   ]
  },
  {
   "cell_type": "markdown",
   "id": "8cf0ddcb",
   "metadata": {},
   "source": [
    "Question 10 \n",
    "\n",
    "Encryption is the process of hiding the meaning of a text by substituting letters in the\n",
    "message with other letters, according to some system. If the process is successful, no\n",
    "one but the intended recipient can understand the encrypted message. Cryptanalysis\n",
    "refers to attempts to undo the encryption, even if some details of the encryption are\n",
    "unknown (for example, if an encrypted message has been intercepted). The first step\n",
    "of cryptanalysis is often to build up a table of letter frequencies in the encrypted text.\n",
    "\n",
    "Assume that the string letters is already defined as\n",
    "'abcdefghijklmnopqrstuvwxyz'. Write a function called frequencies()\n",
    "that takes a string as its only parameter, and returns a list of integers, showing the\n",
    "number of times each character appears in the text. Your function may ignore any\n",
    "characters that are not in letters.\n",
    "\n",
    ">>> frequencies('The quick red fox got bored and went home.')\n",
    "[1, 1, 1, 3, 5, 1, 1, 2, 1, 0, 1, 0, 1, 2, 4, 0, 1, 2, 0, 2,\n",
    "1, 0, 1, 1, 0, 0]\n",
    ">>> frequencies('apple')"
   ]
  },
  {
   "cell_type": "code",
   "execution_count": 37,
   "id": "7fd2e9dc",
   "metadata": {},
   "outputs": [
    {
     "name": "stdout",
     "output_type": "stream",
     "text": [
      "Enter your text here:How are you\n",
      "Frequency list: [1, 0, 0, 0, 1, 0, 0, 1, 0, 0, 0, 0, 0, 0, 2, 0, 0, 1, 0, 0, 1, 0, 1, 0, 1, 0]\n"
     ]
    }
   ],
   "source": [
    "def frequencies(sentence):\n",
    "    alphabet ='abcdefghijklmnopqrstuvwxyz'\n",
    "    frequency = [0] * 26\n",
    "    sentence = sentence.lower()\n",
    "\n",
    "    for char in sentence:\n",
    "        if char in alphabet:\n",
    "            char = char.lower()\n",
    "            frequency[alphabet.index(char)] += 1\n",
    "    return frequency\n",
    "\n",
    "sentence = input(\"Enter your text here:\" )\n",
    "frequencylist = frequencies(sentence)\n",
    "print(\"Frequency list:\",frequencylist)"
   ]
  }
 ],
 "metadata": {
  "kernelspec": {
   "display_name": "Python 3 (ipykernel)",
   "language": "python",
   "name": "python3"
  },
  "language_info": {
   "codemirror_mode": {
    "name": "ipython",
    "version": 3
   },
   "file_extension": ".py",
   "mimetype": "text/x-python",
   "name": "python",
   "nbconvert_exporter": "python",
   "pygments_lexer": "ipython3",
   "version": "3.11.5"
  }
 },
 "nbformat": 4,
 "nbformat_minor": 5
}
